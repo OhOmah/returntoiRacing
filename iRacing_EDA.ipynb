{
  "nbformat": 4,
  "nbformat_minor": 0,
  "metadata": {
    "colab": {
      "provenance": [],
      "authorship_tag": "ABX9TyOddMjLEpCEl1/6L3ZIlgJ4",
      "include_colab_link": true
    },
    "kernelspec": {
      "name": "python3",
      "display_name": "Python 3"
    },
    "language_info": {
      "name": "python"
    }
  },
  "cells": [
    {
      "cell_type": "markdown",
      "metadata": {
        "id": "view-in-github",
        "colab_type": "text"
      },
      "source": [
        "<a href=\"https://colab.research.google.com/github/OhOmah/returntoiRacing/blob/main/iRacing_EDA.ipynb\" target=\"_parent\"><img src=\"https://colab.research.google.com/assets/colab-badge.svg\" alt=\"Open In Colab\"/></a>"
      ]
    },
    {
      "cell_type": "markdown",
      "source": [
        "## PURPOSE OF THIS NOTEBOOK\n",
        "\n",
        "Create a connection to the iRacing API and:\n",
        "1. Understand what data I can pull\n",
        "2. Create a data dictionary for all the features found inside the data\n",
        "3. Complete a through EDA of the data\n",
        "\n",
        "My end goal is to see what questions I can answer and turn this data into an interactive dashboard."
      ],
      "metadata": {
        "id": "O7LTix4e2f0I"
      }
    },
    {
      "cell_type": "code",
      "execution_count": null,
      "metadata": {
        "id": "zGTTkKQl2BIh"
      },
      "outputs": [],
      "source": []
    }
  ]
}